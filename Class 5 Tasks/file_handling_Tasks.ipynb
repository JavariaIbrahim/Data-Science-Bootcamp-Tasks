{
  "nbformat": 4,
  "nbformat_minor": 0,
  "metadata": {
    "colab": {
      "provenance": []
    },
    "kernelspec": {
      "name": "python3",
      "display_name": "Python 3"
    },
    "language_info": {
      "name": "python"
    }
  },
  "cells": [
    {
      "cell_type": "markdown",
      "source": [
        "## File Handling Tasks"
      ],
      "metadata": {
        "id": "LFdz4OTIzSIl"
      }
    },
    {
      "cell_type": "markdown",
      "source": [
        "## Write a Python program to read an entire text file."
      ],
      "metadata": {
        "id": "OHtlESw6zYns"
      }
    },
    {
      "cell_type": "code",
      "source": [
        "file = open(\"/content/class2.txt.txt\" , 'r')\n",
        "content = (file.read())\n",
        "print(content)\n",
        "file.close()"
      ],
      "metadata": {
        "colab": {
          "base_uri": "https://localhost:8080/"
        },
        "id": "Yi12smlFzoX8",
        "outputId": "f1440d3f-cd7f-422b-b0d1-e259518ecf96"
      },
      "execution_count": null,
      "outputs": [
        {
          "output_type": "stream",
          "name": "stdout",
          "text": [
            "Accept the string from the user and diplay the string with first charactor of each word is capital\n",
            "\n",
            "Write a program to accept string from user and display n charactors from the left of a string\n",
            "\n",
            "Write a program to reverse string in Python\n"
          ]
        }
      ]
    },
    {
      "cell_type": "code",
      "source": [
        "with open(\"/content/class2.txt.txt\") as file:\n",
        "  data = file.read()\n",
        "  print(data)"
      ],
      "metadata": {
        "colab": {
          "base_uri": "https://localhost:8080/"
        },
        "id": "RHHgOCw5z9_1",
        "outputId": "9252ffa1-4752-43c6-d172-360926526c9a"
      },
      "execution_count": null,
      "outputs": [
        {
          "output_type": "stream",
          "name": "stdout",
          "text": [
            "Accept the string from the user and diplay the string with first charactor of each word is capital\n",
            "\n",
            "Write a program to accept string from user and display n charactors from the left of a string\n",
            "\n",
            "Write a program to reverse string in Python\n"
          ]
        }
      ]
    },
    {
      "cell_type": "markdown",
      "source": [
        "##Write a Python program to append text to a file and display the text."
      ],
      "metadata": {
        "id": "pYJVJzRV03OM"
      }
    },
    {
      "cell_type": "code",
      "source": [
        "text = open(\"/content/class2.txt.txt\" , 'a')\n",
        "text.write(\"\\nI am adding a new line \")\n",
        "text.close()\n",
        "\n",
        "with open(\"/content/class2.txt.txt\") as file:\n",
        "  content = file.read()\n",
        "print(content)"
      ],
      "metadata": {
        "colab": {
          "base_uri": "https://localhost:8080/"
        },
        "id": "LjSE8pQA525r",
        "outputId": "d7d2a07a-b9c4-4554-ca64-bb20ca617cc7"
      },
      "execution_count": null,
      "outputs": [
        {
          "output_type": "stream",
          "name": "stdout",
          "text": [
            "Accept the string from the user and diplay the string with first charactor of each word is capital\n",
            "\n",
            "Write a program to accept string from user and display n charactors from the left of a string\n",
            "\n",
            "Write a program to reverse string in Python\n",
            "I am adding a new line \n"
          ]
        }
      ]
    },
    {
      "cell_type": "markdown",
      "source": [
        "## Write a Python program to read a file line by line and store it into a list."
      ],
      "metadata": {
        "id": "pKvrkG2EUyab"
      }
    },
    {
      "cell_type": "code",
      "source": [
        "file = open(\"/content/class2.txt.txt\" , 'r')\n",
        "data = file.readlines()\n",
        "for lines in data:\n",
        "  word = lines.split()\n",
        "  print(word)"
      ],
      "metadata": {
        "colab": {
          "base_uri": "https://localhost:8080/"
        },
        "id": "B0oNcdYdU44G",
        "outputId": "ee752db6-ac5b-4956-f117-cd3b6b0b7f92"
      },
      "execution_count": 3,
      "outputs": [
        {
          "output_type": "stream",
          "name": "stdout",
          "text": [
            "['Accept', 'the', 'string', 'from', 'the', 'user', 'and', 'diplay', 'the', 'string', 'with', 'first', 'charactor', 'of', 'each', 'word', 'is', 'capital']\n",
            "[]\n",
            "['Write', 'a', 'program', 'to', 'accept', 'string', 'from', 'user', 'and', 'display', 'n', 'charactors', 'from', 'the', 'left', 'of', 'a', 'string']\n",
            "[]\n",
            "['Write', 'a', 'program', 'to', 'reverse', 'string', 'in', 'Python']\n"
          ]
        }
      ]
    },
    {
      "cell_type": "markdown",
      "source": [
        "## Write a python program to find the longest words."
      ],
      "metadata": {
        "id": "HiX8ZETHaw-6"
      }
    },
    {
      "cell_type": "code",
      "source": [
        "def longest_word(filename):\n",
        "    with open('/content/class2.txt.txt', 'r') as file:\n",
        "              words = file.read().split()\n",
        "    max_len = len(max(words, key=len))\n",
        "    return [word for word in words if len(word) == max_len]\n",
        "\n",
        "print(longest_word('/content/class2.txt.txt'))"
      ],
      "metadata": {
        "colab": {
          "base_uri": "https://localhost:8080/"
        },
        "id": "jSpBdRoOYr_p",
        "outputId": "b2ba0793-f2f5-4fc3-db85-b9435d934d1a"
      },
      "execution_count": 7,
      "outputs": [
        {
          "output_type": "stream",
          "name": "stdout",
          "text": [
            "['charactors']\n"
          ]
        }
      ]
    }
  ]
}