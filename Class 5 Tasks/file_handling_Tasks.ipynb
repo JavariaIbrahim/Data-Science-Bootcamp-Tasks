{
  "nbformat": 4,
  "nbformat_minor": 0,
  "metadata": {
    "colab": {
      "provenance": []
    },
    "kernelspec": {
      "name": "python3",
      "display_name": "Python 3"
    },
    "language_info": {
      "name": "python"
    }
  },
  "cells": [
    {
      "cell_type": "markdown",
      "source": [
        "### Write a Python program to handle a ZeroDivisionError exception when dividing a number by zero"
      ],
      "metadata": {
        "id": "ur9kn6jK9667"
      }
    },
    {
      "cell_type": "code",
      "execution_count": null,
      "metadata": {
        "id": "_vUvDE7d9tZm",
        "colab": {
          "base_uri": "https://localhost:8080/"
        },
        "outputId": "5f3ba6b3-3d4d-4848-ce95-e5fc60cb98f7"
      },
      "outputs": [
        {
          "output_type": "stream",
          "name": "stdout",
          "text": [
            "A zero division error occured\n"
          ]
        }
      ],
      "source": [
        "def fun(num):\n",
        "  if num == 5:\n",
        "    total = num / 0\n",
        "    return total\n",
        "\n",
        "try:\n",
        "  fun(5)\n",
        "\n",
        "except ZeroDivisionError:\n",
        "  print(\"A zero division error occured\")"
      ]
    },
    {
      "cell_type": "markdown",
      "source": [
        "###Write a Python program that opens a file and handles a FileNotFoundError exception if the file does not exist."
      ],
      "metadata": {
        "id": "pKlI4zXs-Kj_"
      }
    },
    {
      "cell_type": "code",
      "source": [
        "try:\n",
        "    # Attempt to open the file\n",
        "    with open('nonexistent_file.txt', 'r') as file:\n",
        "        content = file.read()\n",
        "        print(content)\n",
        "\n",
        "except  FileNotFoundError:\n",
        "    # Handle the FileNotFoundError\n",
        "    print(\"The specified file does not exist. Please check the file name.\")"
      ],
      "metadata": {
        "colab": {
          "base_uri": "https://localhost:8080/"
        },
        "id": "VeHgDCEE-M_X",
        "outputId": "14287dab-5678-45a3-f445-c8a1d20c467b"
      },
      "execution_count": null,
      "outputs": [
        {
          "output_type": "stream",
          "name": "stdout",
          "text": [
            "The specified file does not exist. Please check the file name.\n"
          ]
        }
      ]
    },
    {
      "cell_type": "markdown",
      "source": [
        "###Write a Python program that prompts the user to input an integer and raises a ValueError exception if the input is not a valid integer."
      ],
      "metadata": {
        "id": "9wm4TeGD-WLv"
      }
    },
    {
      "cell_type": "code",
      "source": [
        "try:\n",
        "  name = int(input(\"Enter your name \"))\n",
        "  result = name * 2\n",
        "  print(result)\n",
        "\n",
        "except ValueError:\n",
        "  print(\"A value error occured\")"
      ],
      "metadata": {
        "colab": {
          "base_uri": "https://localhost:8080/"
        },
        "id": "nItJTxmi-Yv9",
        "outputId": "4f2feb8d-e7af-4b5a-9e3c-c9bb00c2bc6c"
      },
      "execution_count": null,
      "outputs": [
        {
          "output_type": "stream",
          "name": "stdout",
          "text": [
            "Enter your name javaria\n",
            "A value error occured\n"
          ]
        }
      ]
    },
    {
      "cell_type": "markdown",
      "source": [
        "###Write a Python program that prompts the user to input two numbers and raises a TypeError exception if the inputs are not numerical."
      ],
      "metadata": {
        "id": "55kZdwlf-klS"
      }
    },
    {
      "cell_type": "code",
      "source": [
        "try:\n",
        "  number = input(\"Enter your first number \")\n",
        "  num2 = int(input(\"Enter your second number \"))\n",
        "  answer = number + num2\n",
        "  print(answer)\n",
        "\n",
        "except TypeError:\n",
        "  print(\"There is a mismatch of values hence type error occured\")"
      ],
      "metadata": {
        "colab": {
          "base_uri": "https://localhost:8080/"
        },
        "id": "jrPmvhQc-e7c",
        "outputId": "f83ee05c-ec52-4331-c844-6b2d3b690880"
      },
      "execution_count": null,
      "outputs": [
        {
          "output_type": "stream",
          "name": "stdout",
          "text": [
            "Enter your first number javaria\n",
            "Enter your second number 99\n",
            "There is a mismatch of values hence type error occured\n"
          ]
        }
      ]
    }
  ]
}