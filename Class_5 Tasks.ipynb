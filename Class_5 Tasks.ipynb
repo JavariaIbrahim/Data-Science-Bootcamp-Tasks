{
  "nbformat": 4,
  "nbformat_minor": 0,
  "metadata": {
    "colab": {
      "provenance": []
    },
    "kernelspec": {
      "name": "python3",
      "display_name": "Python 3"
    },
    "language_info": {
      "name": "python"
    }
  },
  "cells": [
    {
      "cell_type": "markdown",
      "source": [
        "### Write a Python function to find the maximum of three numbers.\n"
      ],
      "metadata": {
        "id": "D6NO1tlV96Xl"
      }
    },
    {
      "cell_type": "markdown",
      "source": [
        "#Functions Tasks"
      ],
      "metadata": {
        "id": "DrpTeRRJ7s2d"
      }
    },
    {
      "cell_type": "code",
      "source": [
        "#Write a Python function to find the maximum of three numbers.\n",
        "\n",
        "def max_of_three(a, b, c):\n",
        "    if a > b and a > c:\n",
        "        return a\n",
        "    elif b > a and b > c:\n",
        "        return b\n",
        "    else:\n",
        "        return c\n",
        "\n",
        "result = max_of_three(4,8,6)\n",
        "\n",
        "print(\"The maximum of\" , 4 , 5 ,\"and\" , 6 , \"is\" , result)"
      ],
      "metadata": {
        "colab": {
          "base_uri": "https://localhost:8080/"
        },
        "id": "fi57gb2c849e",
        "outputId": "b2fc6bbc-7976-4e0e-b649-ba309c9a192c"
      },
      "execution_count": null,
      "outputs": [
        {
          "output_type": "stream",
          "name": "stdout",
          "text": [
            "The maximum of 4 5 and 6 is 8\n"
          ]
        }
      ]
    },
    {
      "cell_type": "markdown",
      "source": [
        "###Write a Python function to multiply all the numbers in a list.\n",
        "\n",
        "###Sample List : (8, 2, 3, -1, 7)"
      ],
      "metadata": {
        "id": "sLVbrAKS-wBX"
      }
    },
    {
      "cell_type": "code",
      "source": [
        "def multiply_list (x):\n",
        "  result = 1\n",
        "  for i in x:\n",
        "    result *= i\n",
        "  return result\n",
        "\n",
        "list_1 = [2,3,5,6,7]\n",
        "output = multiply_list(list_1)\n",
        "print(\"The final result by multiplication of list is\" , output)"
      ],
      "metadata": {
        "colab": {
          "base_uri": "https://localhost:8080/"
        },
        "id": "Pi5So-UI-lTQ",
        "outputId": "35963c4e-cfbe-4f85-a6ea-74b6de09924e"
      },
      "execution_count": null,
      "outputs": [
        {
          "output_type": "stream",
          "name": "stdout",
          "text": [
            "The final result by multiplication of list is 1260\n"
          ]
        }
      ]
    },
    {
      "cell_type": "markdown",
      "source": [
        "###Write a Python function that accepts a string and counts the number of upper and lower case letters.\n",
        "###Sample String : 'The quick Brow Fox'\n",
        "\n",
        "###Expected Output :\n",
        "\n",
        "###No. of Upper case characters : 3 No. of Lower case Characters : 12"
      ],
      "metadata": {
        "id": "q8MD9PBZRIS-"
      }
    },
    {
      "cell_type": "code",
      "source": [
        "def char_string(string):\n",
        "  upper  = 0\n",
        "  lower = 0\n",
        "  for char in string:\n",
        "    if char.isupper():\n",
        "      upper += 1\n",
        "    elif char.islower():\n",
        "      lower += 1\n",
        "  return upper , lower\n",
        "\n",
        "string = \"The Cute Brown Fox\"\n",
        "upper_count , lower_count = char_string(string)\n",
        "print(\"No. of Upper case characters :\" , upper_count , \"No. of Lower case Characters : \" , lower_count)"
      ],
      "metadata": {
        "id": "WGcZwhfJSwiE",
        "colab": {
          "base_uri": "https://localhost:8080/"
        },
        "outputId": "c1a12249-ed8a-4db4-d669-41bdaf55288a"
      },
      "execution_count": null,
      "outputs": [
        {
          "output_type": "stream",
          "name": "stdout",
          "text": [
            "No. of Upper case characters : 4 No. of Lower case Characters :  11\n"
          ]
        }
      ]
    },
    {
      "cell_type": "markdown",
      "source": [
        "### Write a Python function to create and print a list where the values are the squares of numbers between 1 and 30 (both included).\n",
        "\n"
      ],
      "metadata": {
        "id": "tAoYhBsQlh4D"
      }
    },
    {
      "cell_type": "code",
      "source": [
        "def square_num(list1):\n",
        "  square_list = []\n",
        "  for i in list1:\n",
        "    x = 2\n",
        "    x = i**x\n",
        "    square_list.append(x)\n",
        "  return square_list\n",
        "\n",
        "list1 = [1,2,3,4,5,6,7,8,9,10,11,12,13,14,15,16,17,18,19,20,21,22,23,24,25,26,27,28,29,30]\n",
        "result = square_num(list1)\n",
        "print(result)\n",
        "\n"
      ],
      "metadata": {
        "colab": {
          "base_uri": "https://localhost:8080/"
        },
        "id": "YOVGB2Vi_qah",
        "outputId": "596236e9-8820-400d-ea58-b483048cc4e5"
      },
      "execution_count": 8,
      "outputs": [
        {
          "output_type": "stream",
          "name": "stdout",
          "text": [
            "[1, 4, 9, 16, 25, 36, 49, 64, 81, 100, 121, 144, 169, 196, 225, 256, 289, 324, 361, 400, 441, 484, 529, 576, 625, 676, 729, 784, 841, 900]\n"
          ]
        }
      ]
    },
    {
      "cell_type": "markdown",
      "source": [
        "### Write a Python function to calculate the factorial of a number (a non-negative integer). The function accepts the number as an argument."
      ],
      "metadata": {
        "id": "R2ENc_mcE_QO"
      }
    },
    {
      "cell_type": "code",
      "source": [
        "def factorial_num(number):\n",
        "  result = 1\n",
        "  for i in range(1 , number+1):\n",
        "      result *= i\n",
        "  return result\n",
        "\n",
        "factorial_num(8)\n"
      ],
      "metadata": {
        "colab": {
          "base_uri": "https://localhost:8080/"
        },
        "id": "ONu46jIXE9K5",
        "outputId": "7163a889-418c-4b93-d0e0-8213bb35f349"
      },
      "execution_count": 15,
      "outputs": [
        {
          "output_type": "execute_result",
          "data": {
            "text/plain": [
              "40320"
            ]
          },
          "metadata": {},
          "execution_count": 15
        }
      ]
    }
  ]
}