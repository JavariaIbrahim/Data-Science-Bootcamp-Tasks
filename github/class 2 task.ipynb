{
  "cells": [
    {
      "cell_type": "markdown",
      "metadata": {
        "id": "qEp1qJml6U-p"
      },
      "source": [
        "# Accept the string from the user and display the string with first character of each word is capital"
      ]
    },
    {
      "cell_type": "code",
      "execution_count": null,
      "metadata": {
        "id": "3-iGqbFa6U-y",
        "outputId": "f987b49f-71a7-45b6-f177-cbb1336f672b"
      },
      "outputs": [
        {
          "name": "stdin",
          "output_type": "stream",
          "text": [
            "Enter your full name and father name too javaria ibrahim\n"
          ]
        },
        {
          "name": "stdout",
          "output_type": "stream",
          "text": [
            "Javaria Ibrahim\n"
          ]
        }
      ],
      "source": [
        "#Accept the string from the user and display the string with first character of each word is capital\n",
        "string = input(\"Enter your full name and father name too\")\n",
        "capital = string.title()\n",
        "print(capital)"
      ]
    },
    {
      "cell_type": "markdown",
      "source": [
        "# write a program to accept the string from the user and display n characters from the left of a string"
      ],
      "metadata": {
        "id": "WjFD0Ior6YLB"
      }
    },
    {
      "cell_type": "code",
      "execution_count": null,
      "metadata": {
        "id": "YJRMoS6c6U-2",
        "outputId": "9aea1469-2718-4fc1-ad64-7c4be7717c54"
      },
      "outputs": [
        {
          "name": "stdin",
          "output_type": "stream",
          "text": [
            "Enter a string:  i am javaria \n",
            "Enter the number of characters to display from the left:  7\n"
          ]
        },
        {
          "name": "stdout",
          "output_type": "stream",
          "text": [
            "The first 7 characters from the left are: i am ja\n"
          ]
        }
      ],
      "source": [
        "# Accept a string from the user\n",
        "user_input = input(\"Enter a string: \")\n",
        "\n",
        "# Accept the number of characters to display from the left\n",
        "n = int(input(\"Enter the number of characters to display from the left: \"))\n",
        "\n",
        "# Display the first n characters from the left of the string\n",
        "result = user_input[:n]\n",
        "print(f\"The first {n} characters from the left are: {result}\")\n"
      ]
    },
    {
      "cell_type": "markdown",
      "metadata": {
        "id": "fqz8yiHT6U-4"
      },
      "source": [
        "# write a program to reverse string in python"
      ]
    },
    {
      "cell_type": "code",
      "execution_count": null,
      "metadata": {
        "id": "gIv2Dyun6U-5",
        "outputId": "1f39ef03-154f-44a8-b3ef-7f1ee2321363"
      },
      "outputs": [
        {
          "name": "stdout",
          "output_type": "stream",
          "text": [
            "Original my_name: MY name is javaria Ibrahim\n",
            "Reversed my_name: miharbI airavaj si eman YM\n",
            "Original my_string : I am learning Ai\n",
            "Reversed my_String : iA gninrael ma I\n"
          ]
        }
      ],
      "source": [
        "#write a program to reverse string in python\n",
        "# Reverse the strings\n",
        "my_name = \"MY name is javaria Ibrahim\"\n",
        "my_String = \"I am learning Ai\"\n",
        "\n",
        "# Using slice notation to reverse the strings\n",
        "reversed_my_name = my_name[::-1]\n",
        "reversed_your_name = my_String[::-1]\n",
        "\n",
        "# Print the reversed strings\n",
        "print(\"Original my_name:\", my_name)\n",
        "print(\"Reversed my_name:\", reversed_my_name)\n",
        "\n",
        "print(\"Original my_string :\", my_String)\n",
        "print(\"Reversed my_String :\", reversed_your_name)\n"
      ]
    }
  ],
  "metadata": {
    "kernelspec": {
      "display_name": "Python 3 (ipykernel)",
      "language": "python",
      "name": "python3"
    },
    "language_info": {
      "codemirror_mode": {
        "name": "ipython",
        "version": 3
      },
      "file_extension": ".py",
      "mimetype": "text/x-python",
      "name": "python",
      "nbconvert_exporter": "python",
      "pygments_lexer": "ipython3",
      "version": "3.11.4"
    },
    "colab": {
      "provenance": []
    }
  },
  "nbformat": 4,
  "nbformat_minor": 0
}