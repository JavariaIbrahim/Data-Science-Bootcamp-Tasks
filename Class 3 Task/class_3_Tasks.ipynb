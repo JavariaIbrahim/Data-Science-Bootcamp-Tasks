{
  "cells": [
    {
      "cell_type": "markdown",
      "source": [
        "# **Class 3 tasks**"
      ],
      "metadata": {
        "id": "HrrP8e2jBT7c"
      }
    },
    {
      "cell_type": "markdown",
      "source": [
        "### 1) Given a list of numbers. write a program to turn every item of a list into its square.\n",
        "### Given:\n",
        "\n",
        "### numbers = [1, 2, 3, 4, 5, 6, 7]"
      ],
      "metadata": {
        "id": "YDm36KxcBZA5"
      }
    },
    {
      "cell_type": "code",
      "source": [
        "numbers = [1, 2, 3, 4, 5, 6, 7]\n",
        "squared_list = []\n",
        "for x in numbers:\n",
        "  result = x ** 2\n",
        "  squared_list.append(result)\n",
        "print(squared_list)"
      ],
      "metadata": {
        "colab": {
          "base_uri": "https://localhost:8080/"
        },
        "id": "w8cOE9k5B3M3",
        "outputId": "d314f2bc-b5bd-4986-8a15-a6f2b58fad2d"
      },
      "execution_count": null,
      "outputs": [
        {
          "output_type": "stream",
          "name": "stdout",
          "text": [
            "[1, 4, 9, 16, 25, 36, 49]\n"
          ]
        }
      ]
    },
    {
      "cell_type": "markdown",
      "source": [
        "### Write a program to add item 7000 after 6000 in the following Python List\n",
        "### Given:\n",
        "\n",
        "### list1 = [10, 20, [300, 400, [5000, 6000], 500], 30, 40]"
      ],
      "metadata": {
        "id": "CdrRpqm6FZnh"
      }
    },
    {
      "cell_type": "code",
      "source": [
        "list1 = [10, 20, [300, 400, [5000, 6000], 500], 30, 40]\n",
        "list1[2][2].insert(1,700)\n",
        "print(list1)"
      ],
      "metadata": {
        "colab": {
          "base_uri": "https://localhost:8080/"
        },
        "id": "N0fD5ThbGHMQ",
        "outputId": "b9e16dff-131e-414f-9a54-e710a32a1a75"
      },
      "execution_count": null,
      "outputs": [
        {
          "output_type": "stream",
          "name": "stdout",
          "text": [
            "[10, 20, [300, 400, [5000, 700, 6000], 500], 30, 40]\n"
          ]
        }
      ]
    },
    {
      "cell_type": "markdown",
      "source": [
        "### You have given a Python list. Write a program to find value 20 in the list, and if it is present, replace it with 200. Only update the first occurrence of an item.\n",
        "### Given:\n",
        "\n",
        "### list1 = [5, 10, 15, 20, 25, 50, 20]"
      ],
      "metadata": {
        "id": "6oecHNhrlahZ"
      }
    },
    {
      "cell_type": "code",
      "source": [
        "list1 = [5, 10, 15, 20, 25, 50, 20]\n",
        "\n",
        "try:\n",
        "  index_of_20 = list1.index(20)\n",
        "  list1[index_of_20] = 200\n",
        "  print(list1)\n",
        "\n",
        "except ValueError:\n",
        "  print(\"there is no value 20 exists in the list\")\n"
      ],
      "metadata": {
        "colab": {
          "base_uri": "https://localhost:8080/"
        },
        "id": "vZs2aPMvltWe",
        "outputId": "4f914afc-0e79-4f2d-8809-9ae739d27667"
      },
      "execution_count": 17,
      "outputs": [
        {
          "output_type": "stream",
          "name": "stdout",
          "text": [
            "[5, 10, 15, 200, 25, 50, 20]\n"
          ]
        }
      ]
    }
  ],
  "metadata": {
    "colab": {
      "toc_visible": true,
      "provenance": []
    },
    "kernelspec": {
      "display_name": "Python 3",
      "name": "python3"
    }
  },
  "nbformat": 4,
  "nbformat_minor": 0
}