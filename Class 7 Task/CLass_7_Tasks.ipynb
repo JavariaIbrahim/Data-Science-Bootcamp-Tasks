{
  "nbformat": 4,
  "nbformat_minor": 0,
  "metadata": {
    "colab": {
      "provenance": []
    },
    "kernelspec": {
      "name": "python3",
      "display_name": "Python 3"
    },
    "language_info": {
      "name": "python"
    }
  },
  "cells": [
    {
      "cell_type": "markdown",
      "source": [
        "#**Numpy Exercise**"
      ],
      "metadata": {
        "id": "u4E8V4giFqcI"
      }
    },
    {
      "cell_type": "markdown",
      "source": [
        "##Write a NumPy program to create a 3x3 matrix with values ranging from 2 to 10.\n",
        "\n"
      ],
      "metadata": {
        "id": "gS7sKBYNFyyg"
      }
    },
    {
      "cell_type": "code",
      "source": [
        "import numpy as np"
      ],
      "metadata": {
        "id": "VoPvKo9VGJTQ"
      },
      "execution_count": null,
      "outputs": []
    },
    {
      "cell_type": "code",
      "source": [
        "np.array([[2,3,4] , [5,6,7] , [8,9,10]])"
      ],
      "metadata": {
        "colab": {
          "base_uri": "https://localhost:8080/"
        },
        "id": "3SN6ZPg9GaGj",
        "outputId": "a7743db3-c66a-4c20-d4ba-9ce805704548"
      },
      "execution_count": null,
      "outputs": [
        {
          "output_type": "execute_result",
          "data": {
            "text/plain": [
              "array([[ 2,  3,  4],\n",
              "       [ 5,  6,  7],\n",
              "       [ 8,  9, 10]])"
            ]
          },
          "metadata": {},
          "execution_count": 5
        }
      ]
    },
    {
      "cell_type": "markdown",
      "source": [
        "## `Write a NumPy program to reverse an array (the first element becomes the last).`\n",
        "\n",
        "## `Original array:`\n",
        "\n",
        "## `[12 13 14 15 16 17 18 19 20 21 22 23 24 25 26 27 28 29 30 31 32 33 34 35 36 37]`\n",
        "\n",
        "## `Reverse array:`\n",
        "\n",
        "## `[37 36 35 34 33 32 31 30 29 28 27 26 25 24 23 22 21 20 19 18 17 16 15 14 13 12]`"
      ],
      "metadata": {
        "id": "RSixRk_xHkBH"
      }
    },
    {
      "cell_type": "code",
      "source": [
        "import numpy as np\n",
        "arr = np.arange(12,38)\n",
        "array = arr[:: -1]\n",
        "print(array)"
      ],
      "metadata": {
        "colab": {
          "base_uri": "https://localhost:8080/"
        },
        "id": "NUcij8mNIMR3",
        "outputId": "2806f63e-4fb5-4cc9-a722-43fbb5ccf503"
      },
      "execution_count": null,
      "outputs": [
        {
          "output_type": "stream",
          "name": "stdout",
          "text": [
            "[37 36 35 34 33 32 31 30 29 28 27 26 25 24 23 22 21 20 19 18 17 16 15 14\n",
            " 13 12]\n"
          ]
        }
      ]
    },
    {
      "cell_type": "code",
      "source": [
        "arr = np.arange(12,38)\n",
        "reveresed_array = np.flip(arr)\n",
        "print(reveresed_array)"
      ],
      "metadata": {
        "colab": {
          "base_uri": "https://localhost:8080/"
        },
        "id": "l1KOge9SLBCB",
        "outputId": "3186b14a-b563-4b3f-8c6d-f5b5902ea6e5"
      },
      "execution_count": null,
      "outputs": [
        {
          "output_type": "stream",
          "name": "stdout",
          "text": [
            "[37 36 35 34 33 32 31 30 29 28 27 26 25 24 23 22 21 20 19 18 17 16 15 14\n",
            " 13 12]\n"
          ]
        }
      ]
    },
    {
      "cell_type": "markdown",
      "source": [
        "## Write a NumPy program to convert an array to a floating type.\n",
        "##Sample output:\n",
        "\n",
        "##Original array\n",
        "\n",
        "##[1, 2, 3, 4] Array converted to a float type:\n",
        "\n",
        "##[ 1. 2. 3. 4.]"
      ],
      "metadata": {
        "id": "lI4G9m6iRVh8"
      }
    },
    {
      "cell_type": "code",
      "source": [
        "arr = np.array([1,2,3,4])\n",
        "float_array = arr.astype(float)\n",
        "print(float_array)\n"
      ],
      "metadata": {
        "id": "n_Oniv-UK_7w",
        "colab": {
          "base_uri": "https://localhost:8080/"
        },
        "outputId": "ea4dc84f-412d-4369-9b60-7f07443cd6ea"
      },
      "execution_count": null,
      "outputs": [
        {
          "output_type": "stream",
          "name": "stdout",
          "text": [
            "[1. 2. 3. 4.]\n"
          ]
        }
      ]
    },
    {
      "cell_type": "markdown",
      "source": [
        "##Given are 2 similar dimensional numpy arrays, how to get a numpy array output in which every element is an element-wise sum of the 2 numpy arrays?"
      ],
      "metadata": {
        "id": "7oIa1saBTmZG"
      }
    },
    {
      "cell_type": "code",
      "source": [
        "arr1 = np.array([1,2,3,4,5])\n",
        "arr2 = np.array([6,7,8,9,10])\n",
        "sum = arr1 + arr2\n",
        "print(sum)"
      ],
      "metadata": {
        "colab": {
          "base_uri": "https://localhost:8080/"
        },
        "id": "-Xz3y58qTpiA",
        "outputId": "92edbd77-1343-4724-8a38-84f9c846ba3a"
      },
      "execution_count": null,
      "outputs": [
        {
          "output_type": "stream",
          "name": "stdout",
          "text": [
            "[ 7  9 11 13 15]\n"
          ]
        }
      ]
    },
    {
      "cell_type": "code",
      "source": [
        "array1 = np.array([[1,2,3] , [4,5,6]])\n",
        "array2 = np.array([[7,8,9] , [10,11,12]])\n",
        "\n",
        "print(\"array1\")\n",
        "print(array1)\n",
        "\n",
        "print(\"\\narray2\")\n",
        "print(array2)\n",
        "\n",
        "result = array1 + array2\n",
        "print(\"\\nelement wise sum of the 2 numpy arrays is \")\n",
        "print(result)"
      ],
      "metadata": {
        "colab": {
          "base_uri": "https://localhost:8080/"
        },
        "id": "PRPrl-C0U4Z5",
        "outputId": "a2fac43c-e556-4b46-d670-873ebe666800"
      },
      "execution_count": null,
      "outputs": [
        {
          "output_type": "stream",
          "name": "stdout",
          "text": [
            "array1\n",
            "[[1 2 3]\n",
            " [4 5 6]]\n",
            "\n",
            "array2\n",
            "[[ 7  8  9]\n",
            " [10 11 12]]\n",
            "\n",
            "element wise sum of the 2 numpy arrays is \n",
            "[[ 8 10 12]\n",
            " [14 16 18]]\n"
          ]
        }
      ]
    },
    {
      "cell_type": "markdown",
      "source": [
        "##From 2 numpy arrays, extract the indexes in which the elements in the 2 arrays match"
      ],
      "metadata": {
        "id": "0v01ghoOWXIr"
      }
    },
    {
      "cell_type": "code",
      "source": [
        "numpy1 = np.array([1, 2, 3, 4, 5])\n",
        "\n",
        "numpy2 = np.array([6, 2, 8, 4, 10])\n",
        "\n",
        "matching_indexes = np.where(numpy1 == numpy2)\n",
        "\n",
        "print(\"Indexes where elements match:\", matching_indexes)"
      ],
      "metadata": {
        "id": "nqeyO5ntWcwB",
        "colab": {
          "base_uri": "https://localhost:8080/"
        },
        "outputId": "fb7d79ea-4d78-4616-fe39-71a05aec244b"
      },
      "execution_count": 34,
      "outputs": [
        {
          "output_type": "stream",
          "name": "stdout",
          "text": [
            "Indexes where elements match: (array([1, 3]),)\n"
          ]
        }
      ]
    }
  ]
}